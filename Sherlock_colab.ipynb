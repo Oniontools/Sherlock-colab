{
  "nbformat": 4,
  "nbformat_minor": 0,
  "metadata": {
    "colab": {
      "provenance": []
    },
    "kernelspec": {
      "name": "python3",
      "display_name": "Python 3"
    },
    "language_info": {
      "name": "python"
    }
  },
  "cells": [
    {
      "cell_type": "code",
      "execution_count": null,
      "metadata": {
        "colab": {
          "base_uri": "https://localhost:8080/"
        },
        "id": "d1hnWph2mCDr",
        "outputId": "891e5bc2-9bb9-46b8-e94d-7b2cd53879f0"
      },
      "outputs": [
        {
          "output_type": "stream",
          "name": "stdout",
          "text": [
            "\u001b[1m\u001b[32m[\u001b[33m*\u001b[32m] Checking username\u001b[37m oniontools\u001b[32m on:\u001b[0m\n",
            "\u001b[0m\r\u001b[0m\n",
            "\u001b[0m\u001b[1m\u001b[37m[\u001b[32m+\u001b[37m]\u001b[32m Blogger: \u001b[0mhttps://oniontools.blogspot.com\u001b[0m\n",
            "\u001b[0m\u001b[1m\u001b[37m[\u001b[32m+\u001b[37m]\u001b[32m CGTrader: \u001b[0mhttps://www.cgtrader.com/oniontools\u001b[0m\n",
            "\u001b[0m\u001b[1m\u001b[37m[\u001b[32m+\u001b[37m]\u001b[32m Fiverr: \u001b[0mhttps://www.fiverr.com/oniontools\u001b[0m\n",
            "\u001b[0m\u001b[1m\u001b[37m[\u001b[32m+\u001b[37m]\u001b[32m Freelancer: \u001b[0mhttps://www.freelancer.com/u/oniontools\u001b[0m\n",
            "\u001b[0m\u001b[1m\u001b[37m[\u001b[32m+\u001b[37m]\u001b[32m G2G: \u001b[0mhttps://www.g2g.com/oniontools\u001b[0m\n",
            "\u001b[0m\u001b[1m\u001b[37m[\u001b[32m+\u001b[37m]\u001b[32m GitHub: \u001b[0mhttps://www.github.com/oniontools\u001b[0m\n",
            "\u001b[0m\u001b[1m\u001b[37m[\u001b[32m+\u001b[37m]\u001b[32m Gumroad: \u001b[0mhttps://www.gumroad.com/oniontools\u001b[0m\n",
            "\u001b[0m\u001b[1m\u001b[37m[\u001b[32m+\u001b[37m]\u001b[32m NitroType: \u001b[0mhttps://www.nitrotype.com/racer/oniontools\u001b[0m\n",
            "\u001b[0m\u001b[1m\u001b[37m[\u001b[32m+\u001b[37m]\u001b[32m Reddit: \u001b[0mhttps://www.reddit.com/user/oniontools\u001b[0m\n",
            "\u001b[0m\u001b[1m\u001b[37m[\u001b[32m+\u001b[37m]\u001b[32m metacritic: \u001b[0mhttps://www.metacritic.com/user/oniontools\u001b[0m\n",
            "\u001b[0m\n",
            "\u001b[0m\u001b[1m\u001b[32m[\u001b[33m*\u001b[32m] Search completed with\u001b[37m 10 \u001b[32mresults\u001b[0m\u001b[0m\n",
            "\u001b[0m\u001b[0m"
          ]
        }
      ],
      "source": [
        "# clone the repo\n",
        "!git clone https://github.com/sherlock-project/sherlock.git\n",
        "\n",
        "# change the working directory to sherlock\n",
        "%cd sherlock\n",
        "\n",
        "# install the requirements\n",
        "!pip install -r requirements.txt\n",
        "\n",
        "!python sherlock oniontools"
      ]
    }
  ]
}